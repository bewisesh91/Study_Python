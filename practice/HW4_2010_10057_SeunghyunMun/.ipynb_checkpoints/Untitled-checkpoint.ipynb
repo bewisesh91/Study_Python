{
 "cells": [
  {
   "cell_type": "code",
   "execution_count": 138,
   "metadata": {},
   "outputs": [],
   "source": [
    "\"\"\"\n",
    "A sparse vector is a vector whose entries are almost all zero, like [1, 0, 0, 0, 0, 0, 3, 0, 0, 0]. \n",
    "Storing all those zeros in a list wastes memory, so programmers often use dictionaries instead \n",
    "to keep track of just the nonzero entries. For example, the vector shown earlier would be \n",
    "represented as {0:1, 6:3}, because the vector it is meant to represent has \n",
    "the value 1 at index 0 and the value 3 at index 6.\n",
    "\n",
    "The sum of two vectors is just the element-wise sum of their elements.\n",
    "For example, the sum of [1, 2, 3] and [4, 5, 6] is [5, 7, 9]. Implement a function\n",
    "that takes two sparse vectors stored as dictionaries and returns a new dictionary representing their sum.\n",
    "\n",
    "* Condition: All entries of vector are integers.\n",
    "\n",
    "\n",
    ">>>P8({0:1, 6:3}, {0:2, 5:2, 6:2, 7:1})\n",
    "{0:3, 5:2, 6:5, 7:1}\n",
    "\n",
    ">>>P8({0:1, 6:3}, {0:-1, 5:2, 6:2, 7:1})\n",
    "{6: 5, 5: 2, 7: 1}\n",
    "\n",
    ">>>P8({0:1, 6:3}, {0:-1, 1:1, 2:2, 6:-3})\n",
    "{1: 1, 2: 2}\n",
    "\n",
    ">>>P8({0:1, 6:-3}, {0:-1, 6:3})\n",
    "{}\n",
    "\"\"\"\n",
    "\n",
    "def P8(dct1, dct2):\n",
    "    new_dict = {}\n",
    "    new_dict.update(dct1)\n",
    "    new_dict.update(dct2)\n",
    "    for key, value in dct1.items() :\n",
    "        if key in dct2.keys() :\n",
    "            new_value = value + dct2[key]\n",
    "            if new_value != 0 :\n",
    "                new_dict[key] = new_value\n",
    "    return new_dict"
   ]
  },
  {
   "cell_type": "code",
   "execution_count": 139,
   "metadata": {},
   "outputs": [
    {
     "data": {
      "text/plain": [
       "{0: 3, 6: 5, 5: 2, 7: 1}"
      ]
     },
     "execution_count": 139,
     "metadata": {},
     "output_type": "execute_result"
    }
   ],
   "source": [
    "P8({0:1, 6:3}, {0:2, 5:2, 6:2, 7:1})"
   ]
  },
  {
   "cell_type": "code",
   "execution_count": 140,
   "metadata": {},
   "outputs": [
    {
     "data": {
      "text/plain": [
       "{0: 0, 6: 5, 5: 2, 7: 1}"
      ]
     },
     "execution_count": 140,
     "metadata": {},
     "output_type": "execute_result"
    }
   ],
   "source": [
    "P8({0:1, 6:3}, {0:-1, 5:2, 6:2, 7:1})"
   ]
  },
  {
   "cell_type": "code",
   "execution_count": null,
   "metadata": {},
   "outputs": [],
   "source": []
  }
 ],
 "metadata": {
  "kernelspec": {
   "display_name": "Python 3",
   "language": "python",
   "name": "python3"
  },
  "language_info": {
   "codemirror_mode": {
    "name": "ipython",
    "version": 3
   },
   "file_extension": ".py",
   "mimetype": "text/x-python",
   "name": "python",
   "nbconvert_exporter": "python",
   "pygments_lexer": "ipython3",
   "version": "3.8.3"
  }
 },
 "nbformat": 4,
 "nbformat_minor": 4
}
