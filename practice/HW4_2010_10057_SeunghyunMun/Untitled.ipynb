{
 "cells": [
  {
   "cell_type": "code",
   "execution_count": 207,
   "metadata": {},
   "outputs": [],
   "source": [
    "\"\"\"\n",
    "There is a set of words and a query word.\n",
    "You must change exactly one character of the query word.\n",
    "Implement a function that determins whether the changed word can be the element of the set.\n",
    "\n",
    "* Condition: Words consist of only lower-case alphabet(s) and no space.\n",
    "\n",
    "\n",
    ">>>P10({\"data\", \"science\"}, \"data\")\n",
    "False\n",
    "Explanation: If you change one character of the query word, there is no matching word in the set.\n",
    "\n",
    ">>>P10({\"data\", \"science\"}, \"daaa\")\n",
    "True\n",
    "Explanation: You can change one alphabet to make \"daaa\" -> \"data\" .\n",
    "\n",
    ">>>P10({\"data\", \"science\"}, \"scienzz\")\n",
    "False\n",
    "\n",
    ">>>P10({\"data\", \"science\", \"scienze\"}, \"scienzz\")\n",
    "True\n",
    "\n",
    ">>>P10({\"data\", \"science\"}, \"dataa\")\n",
    "False\n",
    "\"\"\"\n",
    "\n",
    "def P10(word_set, query_word):\n",
    "    for i in list(word_set) :\n",
    "        if i == query_word :\n",
    "            pass\n",
    "        else :\n",
    "            for \n",
    "    if query_word in word_set :\n",
    "        print(True)\n",
    "    \n",
    "    # return type: boolean\n",
    "    return\n",
    "\n"
   ]
  },
  {
   "cell_type": "code",
   "execution_count": 208,
   "metadata": {},
   "outputs": [
    {
     "name": "stdout",
     "output_type": "stream",
     "text": [
      "True\n"
     ]
    }
   ],
   "source": [
    "P10({\"data\", \"science\"}, \"data\")"
   ]
  },
  {
   "cell_type": "code",
   "execution_count": 198,
   "metadata": {},
   "outputs": [
    {
     "data": {
      "text/plain": [
       "0"
      ]
     },
     "execution_count": 198,
     "metadata": {},
     "output_type": "execute_result"
    }
   ],
   "source": [
    "P9({0:1, 6:3}, {1:-1, 2:2, 3:2, 4:1})"
   ]
  },
  {
   "cell_type": "code",
   "execution_count": 199,
   "metadata": {},
   "outputs": [
    {
     "data": {
      "text/plain": [
       "-10"
      ]
     },
     "execution_count": 199,
     "metadata": {},
     "output_type": "execute_result"
    }
   ],
   "source": [
    "P9({0:1, 6:-3}, {0:-1, 6:3})"
   ]
  },
  {
   "cell_type": "code",
   "execution_count": null,
   "metadata": {},
   "outputs": [],
   "source": []
  }
 ],
 "metadata": {
  "kernelspec": {
   "display_name": "Python 3",
   "language": "python",
   "name": "python3"
  },
  "language_info": {
   "codemirror_mode": {
    "name": "ipython",
    "version": 3
   },
   "file_extension": ".py",
   "mimetype": "text/x-python",
   "name": "python",
   "nbconvert_exporter": "python",
   "pygments_lexer": "ipython3",
   "version": "3.8.3"
  }
 },
 "nbformat": 4,
 "nbformat_minor": 4
}
