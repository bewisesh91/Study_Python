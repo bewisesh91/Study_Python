{
 "cells": [
  {
   "cell_type": "code",
   "execution_count": 44,
   "metadata": {},
   "outputs": [
    {
     "name": "stdout",
     "output_type": "stream",
     "text": [
      "3\n",
      "5\n",
      "6\n",
      "[1, 2, 3, -3, 6, -1, -3, 1]\n"
     ]
    }
   ],
   "source": [
    "\"\"\"\n",
    "Practical programming Chapter 9 Exercise 12\n",
    "\n",
    "**Instruction**\n",
    "When P5([1, 2, 3, -3, 6, -1, -3, 1]) is executed, it produces [1, 2, 3, 6, -3, 1].\n",
    "The for loop traverses the elements of the list, and when a negative value\n",
    "(like -3 at position 3) is reached, it is removed, shifting the subsequent\n",
    "values one position earlier in the list (so 6 moves into position 3). The\n",
    "loop then continues on to process the next item, skipping over the value\n",
    "that moved into the removed item’s position. If there are two negative\n",
    "numbers in a row (like -1 and -3), then the second one won’t be removed.\n",
    "Rewrite the code to avoid this problem.\n",
    "Assume each element of input list is always number.\n",
    "\n",
    "Remove the negative numbers from the list num_list.\n",
    ">>> numbers = [-5, 1, -3, 2]\n",
    ">>> P5(numbers)\n",
    ">>> numbers\n",
    "[1, 2]\n",
    "  \n",
    "\"\"\"\n",
    "from typing import List\n",
    "def P5(num_list: List[float]) -> List[float]:\n",
    "    ##### Modify code Here #####\n",
    "    negative_index = []\n",
    "    for i in range(len(num_list)):\n",
    "        if num_list[i] < 0 :\n",
    "            negative_index.append(i)\n",
    "    for index in negative_index :\n",
    "        print(index)\n",
    "        del num_list[index]\n",
    "        \n",
    "    return num_list\n",
    "    ##### End of your code #####\n",
    "\n",
    "print(P5([1,2,3,-3,6,-1,-3,1]))"
   ]
  },
  {
   "cell_type": "code",
   "execution_count": 47,
   "metadata": {},
   "outputs": [
    {
     "name": "stdout",
     "output_type": "stream",
     "text": [
      "[1, 2]\n"
     ]
    }
   ],
   "source": [
    "\"\"\"\n",
    "Practical programming Chapter 9 Exercise 12\n",
    "\n",
    "**Instruction**\n",
    "When P5([1, 2, 3, -3, 6, -1, -3, 1]) is executed, it produces [1, 2, 3, 6, -3, 1].\n",
    "The for loop traverses the elements of the list, and when a negative value\n",
    "(like -3 at position 3) is reached, it is removed, shifting the subsequent\n",
    "values one position earlier in the list (so 6 moves into position 3). The\n",
    "loop then continues on to process the next item, skipping over the value\n",
    "that moved into the removed item’s position. If there are two negative\n",
    "numbers in a row (like -1 and -3), then the second one won’t be removed.\n",
    "Rewrite the code to avoid this problem.\n",
    "Assume each element of input list is always number.\n",
    "\n",
    "Remove the negative numbers from the list num_list.\n",
    ">>> numbers = [-5, 1, -3, 2]\n",
    ">>> P5(numbers)\n",
    ">>> numbers\n",
    "[1, 2]\n",
    "  \n",
    "\"\"\"\n",
    "from typing import List\n",
    "def P5(num_list: List[float]) -> List[float]:\n",
    "    ##### Modify code Here #####\n",
    "    new_list = []\n",
    "    for item in num_list:\n",
    "        if item >= 0:\n",
    "            new_list.append(item)\n",
    "    return new_list\n",
    "    ##### End of your code #####\n",
    "\n"
   ]
  },
  {
   "cell_type": "code",
   "execution_count": 27,
   "metadata": {},
   "outputs": [
    {
     "data": {
      "text/plain": [
       "50.0"
      ]
     },
     "execution_count": 27,
     "metadata": {},
     "output_type": "execute_result"
    }
   ],
   "source": [
    "P4(0, 100)"
   ]
  },
  {
   "cell_type": "code",
   "execution_count": 7,
   "metadata": {},
   "outputs": [
    {
     "data": {
      "text/plain": [
       "False"
      ]
     },
     "execution_count": 7,
     "metadata": {},
     "output_type": "execute_result"
    }
   ],
   "source": [
    "P2(['a', 'b', 'c'], [1, 2, 3])"
   ]
  },
  {
   "cell_type": "code",
   "execution_count": null,
   "metadata": {},
   "outputs": [],
   "source": []
  }
 ],
 "metadata": {
  "kernelspec": {
   "display_name": "Python 3",
   "language": "python",
   "name": "python3"
  },
  "language_info": {
   "codemirror_mode": {
    "name": "ipython",
    "version": 3
   },
   "file_extension": ".py",
   "mimetype": "text/x-python",
   "name": "python",
   "nbconvert_exporter": "python",
   "pygments_lexer": "ipython3",
   "version": "3.8.3"
  }
 },
 "nbformat": 4,
 "nbformat_minor": 4
}
