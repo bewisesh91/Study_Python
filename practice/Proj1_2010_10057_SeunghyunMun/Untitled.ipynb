{
 "cells": [
  {
   "cell_type": "code",
   "execution_count": 21,
   "metadata": {},
   "outputs": [],
   "source": [
    "\"\"\"\n",
    "**Instruction**\n",
    "<Factor into two prime numbers>\n",
    "Input of P2 function is natural number.\n",
    "P2 function returns whether the input nubmer could be factored into two prime numbers.\n",
    "Do not worry about invalid input.\n",
    "\n",
    ">>> P2(6) #2 * 3\n",
    "True\n",
    "\n",
    ">>> P2(9) #3 * 3\n",
    "True\n",
    "\n",
    ">>> P2(12) # 2 * 2 * 3\n",
    "False\n",
    "\n",
    ">>> P2(7) # 7\n",
    "False\n",
    "\n",
    "\n",
    "\"\"\"\n",
    "\n",
    "def P2(n:int) -> bool:        \n",
    "    ##### Write your Code Here #####\n",
    "    print(###)\n",
    "    print(###)\n",
    "    return False\n",
    "    ##### End of your code #####\n",
    "\n",
    "\n"
   ]
  },
  {
   "cell_type": "code",
   "execution_count": null,
   "metadata": {},
   "outputs": [],
   "source": []
  }
 ],
 "metadata": {
  "kernelspec": {
   "display_name": "Python 3",
   "language": "python",
   "name": "python3"
  },
  "language_info": {
   "codemirror_mode": {
    "name": "ipython",
    "version": 3
   },
   "file_extension": ".py",
   "mimetype": "text/x-python",
   "name": "python",
   "nbconvert_exporter": "python",
   "pygments_lexer": "ipython3",
   "version": "3.8.3"
  }
 },
 "nbformat": 4,
 "nbformat_minor": 4
}
