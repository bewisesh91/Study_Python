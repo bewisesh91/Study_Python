{
 "cells": [
  {
   "cell_type": "code",
   "execution_count": 29,
   "metadata": {},
   "outputs": [],
   "source": [
    "\"\"\"\n",
    "**Instruction**\n",
    "<Factor into two prime numbers>\n",
    "Input of P2 function is natural number.\n",
    "P2 function returns whether the input nubmer could be factored into two prime numbers.\n",
    "Do not worry about invalid input.\n",
    "\n",
    ">>> P2(6) #2 * 3\n",
    "True\n",
    "\n",
    ">>> P2(9) #3 * 3\n",
    "True\n",
    "\n",
    ">>> P2(12) # 2 * 2 * 3\n",
    "False\n",
    "\n",
    ">>> P2(7) # 7\n",
    "False\n",
    "\n",
    "\n",
    "\"\"\"\n",
    "\n",
    "def P2(n:int) -> bool:        \n",
    "    ##### Write your Code Here #####\n",
    "    \n",
    "    def prime_num(n) :\n",
    "        count = 0\n",
    "        for i in range(1, n+1) :\n",
    "            if n % i == 0 :\n",
    "                count += 1\n",
    "        if count == 2 :\n",
    "            return True\n",
    "        else :\n",
    "            return False\n",
    "    \n",
    "    if prime_num(n) :\n",
    "        return False\n",
    "    else :\n",
    "        count = 0\n",
    "        num = 2\n",
    "        result = []\n",
    "        while count < 2 :\n",
    "            if n % num == 0 :\n",
    "                count += 1\n",
    "                result.append(num)\n",
    "                n2 = n // num\n",
    "                if n2 % num == 0 :\n",
    "                    count += 1\n",
    "                    result.append(n)\n",
    "                    if n2 // num == 1 :\n",
    "                        return True\n",
    "                    else :\n",
    "                        return False\n",
    "                else :\n",
    "                    num += 1\n",
    "            else :\n",
    "                num += 1\n",
    "        \n",
    "        if len(result) == 2 :\n",
    "            for i in result :\n",
    "                if not prime_num(i) :\n",
    "                    return False\n",
    "                else :\n",
    "                    pass\n",
    "            return True\n",
    "        else :\n",
    "            return False\n",
    "    ##### End of your code #####\n",
    "\n",
    "\n"
   ]
  },
  {
   "cell_type": "code",
   "execution_count": 46,
   "metadata": {},
   "outputs": [],
   "source": [
    "\"\"\"\n",
    "**Instruction**\n",
    "<Social security number>\n",
    "Korean social security number is composed in this way\n",
    "First 6 digits indicate the birth year/month/day. When birth day is 1994/05/30 -> First 6 digits are 940530\n",
    "\n",
    "7th digit indicate the sex of the person. Male gets 1 or 3 and female gets 2 or 4.\n",
    "\n",
    "If the preson is born before year 2000, he or she receives 1 or 2, respectively\n",
    "\n",
    "If the person is born after yera 2000(inclusive), he or she receives 3 or 4 respectively.\n",
    "\n",
    "Complete P3 function for which input is the person's info and returns the first 7 digits of Korean social security number as string\n",
    "- Input is a list of form [str sex, int birth_year, int birth_month, int birth_day]\n",
    "- sex is either 'MALE' or 'FEMALE'\n",
    "- Input does not include invalid dates(e.g. don't worry about 2021-02-29, 1998-04-31, 2007-13-01 etc)\n",
    "\n",
    ">>> P3(['MALE', 1996, 10, 30])\n",
    "'9610301'\n",
    "\n",
    ">>> P3(['FEMALE', 2000, 1, 2])\n",
    "'0001024'\n",
    "\n",
    ">>> P3(['FEMALE', 2021, 3, 28])\n",
    "'2103284'\n",
    "\n",
    "\n",
    "\"\"\"\n",
    "\n",
    "def P3(info:list) -> str:        \n",
    "    ##### Write your Code Here #####\n",
    "    if info[0] == 'MALE' :\n",
    "        if info[1] < 2000 :\n",
    "            year = str(info[1])[-2:]\n",
    "            if info[2] < 10 :\n",
    "                month = '0' + str(info[2])\n",
    "            else :\n",
    "                month = str(info[2])\n",
    "            if info[3] < 10 :\n",
    "                day = '0' + str(info[3])                \n",
    "            else :\n",
    "                day = str(info[3])\n",
    "            return year+month+day+'1'\n",
    "        else :\n",
    "            year = str(info[1])[-2:]\n",
    "            if info[2] < 10 :\n",
    "                month = '0' + str(info[2])\n",
    "            else :\n",
    "                month = str(info[2])\n",
    "            if info[3] < 10 :\n",
    "                day = '0' + str(info[3])                \n",
    "            else :\n",
    "                day = str(info[3])\n",
    "            return year+month+day+'3'\n",
    "    else :\n",
    "        if info[1] < 2000 :\n",
    "            year = str(info[1])[-2:]\n",
    "            if info[2] < 10 :\n",
    "                month = '0' + str(info[2])\n",
    "            else :\n",
    "                month = str(info[2])\n",
    "            if info[3] < 10 :\n",
    "                day = '0' + str(info[3])                \n",
    "            else :\n",
    "                day = str(info[3])\n",
    "            return year+month+day+'2'\n",
    "        else :\n",
    "            year = str(info[1])[-2:]\n",
    "            if info[2] < 10 :\n",
    "                month = '0' + str(info[2])\n",
    "            else :\n",
    "                month = str(info[2])\n",
    "            if info[3] < 10 :\n",
    "                day = '0' + str(info[3])                \n",
    "            else :\n",
    "                day = str(info[3])\n",
    "            return year+month+day+'4'\n",
    "    ##### End of your code #####\n",
    "\n",
    "\n"
   ]
  },
  {
   "cell_type": "code",
   "execution_count": 47,
   "metadata": {},
   "outputs": [
    {
     "data": {
      "text/plain": [
       "'9610301'"
      ]
     },
     "execution_count": 47,
     "metadata": {},
     "output_type": "execute_result"
    }
   ],
   "source": [
    "P3(['MALE', 1996, 10, 30])"
   ]
  },
  {
   "cell_type": "code",
   "execution_count": 48,
   "metadata": {},
   "outputs": [
    {
     "data": {
      "text/plain": [
       "'0001024'"
      ]
     },
     "execution_count": 48,
     "metadata": {},
     "output_type": "execute_result"
    }
   ],
   "source": [
    "P3(['FEMALE', 2000, 1, 2])"
   ]
  },
  {
   "cell_type": "code",
   "execution_count": 49,
   "metadata": {},
   "outputs": [
    {
     "data": {
      "text/plain": [
       "'2103284'"
      ]
     },
     "execution_count": 49,
     "metadata": {},
     "output_type": "execute_result"
    }
   ],
   "source": [
    "P3(['FEMALE', 2021, 3, 28])"
   ]
  },
  {
   "cell_type": "code",
   "execution_count": null,
   "metadata": {},
   "outputs": [],
   "source": []
  }
 ],
 "metadata": {
  "kernelspec": {
   "display_name": "Python 3",
   "language": "python",
   "name": "python3"
  },
  "language_info": {
   "codemirror_mode": {
    "name": "ipython",
    "version": 3
   },
   "file_extension": ".py",
   "mimetype": "text/x-python",
   "name": "python",
   "nbconvert_exporter": "python",
   "pygments_lexer": "ipython3",
   "version": "3.8.3"
  }
 },
 "nbformat": 4,
 "nbformat_minor": 4
}
